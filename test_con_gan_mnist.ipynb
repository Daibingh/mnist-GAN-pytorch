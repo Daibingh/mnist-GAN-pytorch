{
 "cells": [
  {
   "cell_type": "markdown",
   "metadata": {},
   "source": [
    "# Import"
   ]
  },
  {
   "cell_type": "code",
   "execution_count": 1,
   "metadata": {},
   "outputs": [],
   "source": [
    "from glob2 import glob\n",
    "import warnings\n",
    "import torch\n",
    "import numpy as np\n",
    "import torch.nn as nn\n",
    "import os\n",
    "import torchvision\n",
    "import torch.optim as optim\n",
    "import matplotlib.pyplot as plt\n",
    "import torch.nn.functional as F\n",
    "\n",
    "data_path = 'E:\\\\dl-learning\\\\pytorch\\\\pytorch-examples\\\\data\\\\'"
   ]
  },
  {
   "cell_type": "markdown",
   "metadata": {},
   "source": [
    "# Dataset"
   ]
  },
  {
   "cell_type": "code",
   "execution_count": 2,
   "metadata": {},
   "outputs": [
    {
     "name": "stdout",
     "output_type": "stream",
     "text": [
      "60000\n"
     ]
    }
   ],
   "source": [
    "pixel_mean = 33.32\n",
    "pixel_std = 78.57\n",
    "dataset = torchvision.datasets.MNIST(data_path, download=False)\n",
    "print(len(dataset))"
   ]
  },
  {
   "cell_type": "code",
   "execution_count": 3,
   "metadata": {},
   "outputs": [],
   "source": [
    "class MnistDataset:\n",
    "    \n",
    "    def __init__(self, dataset, batch_size=5):\n",
    "        self._data = dataset\n",
    "        self.batch_size = batch_size\n",
    "        self.num_samples = len(dataset)\n",
    "        self._index = np.arange(self.num_samples)\n",
    "        mod = self.num_samples % batch_size\n",
    "        if mod > 0:\n",
    "            self._index = np.hstack((self._index, np.random.choice(self._index, batch_size-mod)))\n",
    "        self._idx_bat = [self._index[i:i+self.batch_size] for i in np.arange(0, self.num_samples, self.batch_size)]\n",
    "        \n",
    "    def shuffle_data(self):\n",
    "        np.random.shuffle(self._index)\n",
    "        self._idx_bat = [self._index[i:i+self.batch_size] for i in np.arange(0, self.num_samples, self.batch_size)]\n",
    "    \n",
    "    def __len__(self):\n",
    "        return int(np.ceil(self.num_samples/self.batch_size))\n",
    "    \n",
    "    def __getitem__(self, idx):\n",
    "        image = []\n",
    "        label = []\n",
    "        for i in self._idx_bat[idx]:\n",
    "            x, y = self._data[i]\n",
    "            x = (np.asarray(x).astype('float')-pixel_mean)/pixel_std  # 归一化 mean=0, std=1\n",
    "            x = .5*x+.5\n",
    "            image.append(torch.tensor(x.reshape(1,28,28), dtype=torch.float32))\n",
    "            label.append(y)\n",
    "        image = torch.stack(image)\n",
    "        label = torch.tensor(label)\n",
    "        return image, label\n",
    "        "
   ]
  },
  {
   "cell_type": "code",
   "execution_count": 4,
   "metadata": {},
   "outputs": [],
   "source": [
    "# mnistdata = MnistDataset(dataset, batch_size=5)"
   ]
  },
  {
   "cell_type": "code",
   "execution_count": 5,
   "metadata": {},
   "outputs": [],
   "source": [
    "# t=torch.zeros(5,10)\n",
    "# cls=mnistdata[0][1]"
   ]
  },
  {
   "cell_type": "code",
   "execution_count": 6,
   "metadata": {},
   "outputs": [],
   "source": [
    "# t[range(5),cls]=1.0"
   ]
  },
  {
   "cell_type": "markdown",
   "metadata": {},
   "source": [
    "# Model"
   ]
  },
  {
   "cell_type": "code",
   "execution_count": 7,
   "metadata": {},
   "outputs": [],
   "source": [
    "class ModelG(nn.Module):\n",
    "    def __init__(self, z_dim):\n",
    "        self.z_dim = z_dim\n",
    "        super(ModelG, self).__init__()\n",
    "        self.fc2 = nn.Linear(10, 1000)\n",
    "        self.fc = nn.Linear(self.z_dim+1000, 64*28*28)\n",
    "        self.bn1 = nn.BatchNorm2d(64)\n",
    "        self.deconv1 = nn.ConvTranspose2d(64, 32, 5, 1, 2)\n",
    "        self.bn2 = nn.BatchNorm2d(32)\n",
    "        self.deconv2 = nn.ConvTranspose2d(32, 1, 5, 1, 2)\n",
    "        self.bn3 = nn.BatchNorm2d(1)\n",
    "\n",
    "    def forward(self, x, labels):\n",
    "        \"\"\"\n",
    "        x: (batch_size, z_dim)\n",
    "        labels: (batch_size, 10)\n",
    "        \"\"\"\n",
    "        batch_size = x.size(0)\n",
    "        y_ = self.fc2(labels)  # (b, 10)->(b,1000)\n",
    "        y_ = F.relu(y_)\n",
    "        x = torch.cat([x, y_], 1)  # (b,1000)+(b,z_dim)->(b, 1000+z_dim)\n",
    "        x = self.fc(x)  # (b, 1000+z_dim)->(b, 64*28*28)\n",
    "        x = x.view(batch_size, 64, 28, 28)  # (b, 64*28*28)->(b, 64, 28, 28)\n",
    "        x = self.bn1(x) \n",
    "        x = F.relu(x)\n",
    "        x = self.deconv1(x)\n",
    "        x = self.bn2(x)\n",
    "        x = F.relu(x)\n",
    "        x = self.deconv2(x)\n",
    "        self.bn3(x)\n",
    "        x = F.relu(x)\n",
    "        x = torch.tanh(x)\n",
    "        return x\n",
    "    \n",
    "    \n",
    "class ModelD(nn.Module):\n",
    "    def __init__(self):\n",
    "        super(ModelD, self).__init__()\n",
    "        self.conv1 = nn.Conv2d(1, 32, 5, 1, 2)\n",
    "        self.bn1 = nn.BatchNorm2d(32)\n",
    "        self.conv2 = nn.Conv2d(32, 64, 5, 1, 2)\n",
    "        self.bn2 = nn.BatchNorm2d(64)\n",
    "        self.fc1  = nn.Linear(64*28*28+1000, 1024)\n",
    "        self.fc2 = nn.Linear(1024, 1)\n",
    "        self.fc3 = nn.Linear(10, 1000)\n",
    "\n",
    "    def forward(self, x, labels):\n",
    "        \"\"\"\n",
    "        x: (b, 1, 28, 28)\n",
    "        labels: (b, 10)\n",
    "        \"\"\"\n",
    "        batch_size = x.size(0)\n",
    "        x = self.conv1(x)  # (b, 1, 28, 28)->(b, 32, 28, 28)\n",
    "        x = self.bn1(x)\n",
    "        x = F.relu(x)\n",
    "        x = self.conv2(x)  # (b, 32, 28, 28)->(b, 64, 28, 28)\n",
    "        x = self.bn2(x)\n",
    "        x = F.relu(x)\n",
    "        x = x.view(batch_size, 64*28*28)  # (b, 64, 28, 28)->(b, 64*28*28)\n",
    "        y_ = self.fc3(labels)  # (b, 10)->(b, 1000)\n",
    "        y_ = F.relu(y_)\n",
    "        x = torch.cat([x, y_], 1)  # (b, 1000)+(b, 64*28*28)->(64*28*28+1000, 1024)\n",
    "        x = self.fc1(x)\n",
    "        x = F.relu(x)\n",
    "        x = self.fc2(x)  # (b,1024)->(b,1)\n",
    "        return torch.sigmoid(x)"
   ]
  },
  {
   "cell_type": "code",
   "execution_count": 8,
   "metadata": {},
   "outputs": [],
   "source": [
    "# z_dim=8\n",
    "# z = torch.randn(1,8)\n",
    "# label = torch.zeros(1,10)\n",
    "# label[0]=1"
   ]
  },
  {
   "cell_type": "code",
   "execution_count": 9,
   "metadata": {},
   "outputs": [],
   "source": [
    "# G = ModelG(z_dim)"
   ]
  },
  {
   "cell_type": "code",
   "execution_count": 10,
   "metadata": {},
   "outputs": [],
   "source": [
    "# g_out = G(z, label)"
   ]
  },
  {
   "cell_type": "code",
   "execution_count": 11,
   "metadata": {},
   "outputs": [],
   "source": [
    "# g_out.shape"
   ]
  },
  {
   "cell_type": "code",
   "execution_count": 12,
   "metadata": {},
   "outputs": [],
   "source": [
    "# D=ModelD()"
   ]
  },
  {
   "cell_type": "code",
   "execution_count": 13,
   "metadata": {},
   "outputs": [],
   "source": [
    "# d_out = D(g_out, label)"
   ]
  },
  {
   "cell_type": "code",
   "execution_count": 14,
   "metadata": {},
   "outputs": [],
   "source": [
    "# d_out.shape"
   ]
  },
  {
   "cell_type": "markdown",
   "metadata": {},
   "source": [
    "# Training"
   ]
  },
  {
   "cell_type": "code",
   "execution_count": 15,
   "metadata": {},
   "outputs": [],
   "source": [
    "start_epoch = 1\n",
    "epochs = 1\n",
    "# lr = .0005\n",
    "lr_d = .001\n",
    "lr_g = .001\n",
    "batch_size = 64\n",
    "latent_dim = 32\n",
    "\n",
    "\n",
    "def calc_acc(pred, true, th=.5):\n",
    "    with torch.no_grad():\n",
    "        pred = pred>th\n",
    "        true = true.byte()\n",
    "        return (pred==true).float().mean()\n",
    "    \n",
    "\n",
    "def to_onehot(label, cls=10):\n",
    "    onehot = torch.zeros(label.shape[0], cls)\n",
    "    onehot[range(label.shape[0]), label]=1.0\n",
    "    return onehot\n",
    "\n",
    "def to_onehot_fake(label, cls=10):\n",
    "    fake_label = [np.random.choice(list(set(range(cls))-set([i]))) for i in label]\n",
    "    onehot = torch.zeros(label.shape[0], cls)\n",
    "    onehot[range(label.shape[0]), fake_label]=1.0\n",
    "    return onehot\n",
    "\n",
    "def inplace_relu(m):\n",
    "    classname = m.__class__.__name__\n",
    "    if classname.find('ReLU') != -1:\n",
    "        m.inplace=True"
   ]
  },
  {
   "cell_type": "code",
   "execution_count": 16,
   "metadata": {},
   "outputs": [
    {
     "name": "stdout",
     "output_type": "stream",
     "text": [
      "938\n"
     ]
    }
   ],
   "source": [
    "mnistdata = MnistDataset(dataset, batch_size=batch_size)\n",
    "num_iters = len(mnistdata)\n",
    "print(num_iters)"
   ]
  },
  {
   "cell_type": "code",
   "execution_count": 17,
   "metadata": {},
   "outputs": [],
   "source": [
    "device = torch.device(\"cuda\" if torch.cuda.is_available() else \"cpu\")\n",
    "# device = torch.device(\"cpu\")\n",
    "torch.cuda.empty_cache()\n",
    "\n",
    "netG = ModelG(latent_dim).to(device)\n",
    "netD = ModelD().to(device)\n",
    "# netG.apply(inplace_relu)\n",
    "# netD.apply(inplace_relu)\n",
    "\n",
    "real_label = 1\n",
    "fake_label = 0"
   ]
  },
  {
   "cell_type": "code",
   "execution_count": 18,
   "metadata": {},
   "outputs": [],
   "source": [
    "optimizer_G = optim.SGD(netG.parameters(),lr=lr_g)\n",
    "optimizer_D = optim.SGD(netD.parameters(),lr=lr_d)\n",
    "bce_loss = nn.BCELoss()"
   ]
  },
  {
   "cell_type": "code",
   "execution_count": 19,
   "metadata": {},
   "outputs": [],
   "source": [
    "fixed_vector = torch.randn(5,latent_dim).to(device)"
   ]
  },
  {
   "cell_type": "code",
   "execution_count": 20,
   "metadata": {},
   "outputs": [
    {
     "name": "stdout",
     "output_type": "stream",
     "text": [
      "[1/1][938/938]  loss_D: (0.678,0.714,0.004)  loss_G: 5.528  acc_D: (0.656,0.3441.000)  acc_G: 0.000\r"
     ]
    }
   ],
   "source": [
    "y_true = torch.zeros(batch_size).to(device)\n",
    "\n",
    "for i in range(start_epoch, start_epoch+epochs):\n",
    "    mnistdata.shuffle_data()\n",
    "    for j in range(num_iters):\n",
    "        \n",
    "        optimizer_D.zero_grad()\n",
    "        \n",
    "        image = mnistdata[j][0].to(device)\n",
    "        label = to_onehot(mnistdata[j][1]).to(device)\n",
    "        y_pred = netD(image, label)\n",
    "        y_true.fill_(real_label)\n",
    "        loss_D = bce_loss(y_pred.view(-1), y_true)\n",
    "        loss_d_real = loss_D.item()\n",
    "        acc_d_real = calc_acc(y_pred.view(-1), y_true)\n",
    "        loss_D.backward()\n",
    "        \n",
    "        label = to_onehot_fake(mnistdata[j][1]).to(device)\n",
    "        y_pred = netD(image, label)\n",
    "        y_true.fill_(fake_label)\n",
    "        loss_D = bce_loss(y_pred.view(-1), y_true)\n",
    "        loss_d_fake2 = loss_D.item()\n",
    "        acc_d_fake2 = calc_acc(y_pred.view(-1), y_true)\n",
    "        loss_D.backward()\n",
    "        \n",
    "        latent_vector = torch.randn(batch_size,latent_dim).to(device)\n",
    "        label = to_onehot(np.random.randint(0,10,(batch_size,))).to(device)\n",
    "        image = netG(latent_vector, label)\n",
    "        y_pred = netD(image.detach(), label)  # 非常关键 detach ！！！\n",
    "#         y_true.fill_(fake_label)\n",
    "        loss_D = bce_loss(y_pred.view(-1), y_true)\n",
    "        loss_d_fake = loss_D.item()\n",
    "        acc_d_fake = calc_acc(y_pred.view(-1), y_true)\n",
    "        loss_D.backward()\n",
    "        \n",
    "        optimizer_D.step()\n",
    "        \n",
    "#         torch.cuda.empty_cache()\n",
    "        \n",
    "        optimizer_G.zero_grad()\n",
    "\n",
    "        y_pred = netD(image, label)\n",
    "        y_true.fill_(real_label)\n",
    "        loss_G = bce_loss(y_pred.view(-1), y_true)\n",
    "        acc_g = calc_acc(y_pred.view(-1), y_true)\n",
    "        loss_g = loss_G.item()\n",
    "        \n",
    "        loss_G.backward()\n",
    "        \n",
    "        optimizer_G.step()\n",
    "        \n",
    "#         torch.cuda.empty_cache()\n",
    "        \n",
    "        print(\"[{}/{}][{}/{}]  loss_D: ({:.3f},{:.3f},{:.3f})  loss_G: {:.3f}  acc_D: ({:.3f},{:.3f}{:.3f})  acc_G: {:.3f}\"\\\n",
    "              .format(i, start_epoch+epochs-1, j+1, num_iters, loss_d_real, loss_d_fake2, loss_d_fake, loss_g, acc_d_real, \n",
    "                      acc_d_fake2, acc_d_fake, acc_g), end='\\r')\n",
    "        \n",
    "#     gen_img = netG(fixed_vector).detach().cpu().numpy().reshape(5,28,28)\n",
    "#     mer_img = np.hstack([i for i in gen_img])\n",
    "#     im = PIL.Image.fromarray((mer_img*255).astype('uint8'))\n",
    "#     im.save('mnist_gan/{:0>3d}.png'.format(i))"
   ]
  },
  {
   "cell_type": "markdown",
   "metadata": {},
   "source": [
    "# Testing"
   ]
  },
  {
   "cell_type": "code",
   "execution_count": 25,
   "metadata": {},
   "outputs": [],
   "source": [
    "img=image.detach().cpu().numpy().reshape(batch_size,28,28)\n",
    "lab=label.detach().cpu().numpy().reshape(batch_size,10).argmax(axis=1)"
   ]
  },
  {
   "cell_type": "code",
   "execution_count": 40,
   "metadata": {},
   "outputs": [
    {
     "data": {
      "text/plain": [
       "Text(0.5, 1.0, '3')"
      ]
     },
     "execution_count": 40,
     "metadata": {},
     "output_type": "execute_result"
    },
    {
     "data": {
      "image/png": "[encoded data removed]",
      "text/plain": [
       "<Figure size 432x288 with 1 Axes>"
      ]
     },
     "metadata": {
      "needs_background": "light"
     },
     "output_type": "display_data"
    }
   ],
   "source": [
    "ind = np.random.randint(0,batch_size)\n",
    "plt.imshow(img[ind], cmap='gray')\n",
    "plt.title(str(lab[ind]))"
   ]
  },
  {
   "cell_type": "code",
   "execution_count": 23,
   "metadata": {},
   "outputs": [
    {
     "data": {
      "text/plain": [
       "<matplotlib.image.AxesImage at 0x21d3824c908>"
      ]
     },
     "execution_count": 23,
     "metadata": {},
     "output_type": "execute_result"
    },
    {
     "data": {
      "image/png": "[encoded data removed]",
      "text/plain": [
       "<Figure size 432x288 with 1 Axes>"
      ]
     },
     "metadata": {
      "needs_background": "light"
     },
     "output_type": "display_data"
    }
   ],
   "source": [
    "x = torch.randn(1, latent_dim).to(device)\n",
    "l = torch.zeros(1, 10).to(device)\n",
    "l[0,np.random.randint(0,10)]=1\n",
    "img = netG(x,l).detach().cpu().numpy()\n",
    "\n",
    "plt.imshow(img[0][0], cmap='gray')"
   ]
  }
 ],
 "metadata": {
  "kernelspec": {
   "display_name": "Python 3",
   "language": "python",
   "name": "python3"
  },
  "language_info": {
   "codemirror_mode": {
    "name": "ipython",
    "version": 3
   },
   "file_extension": ".py",
   "mimetype": "text/x-python",
   "name": "python",
   "nbconvert_exporter": "python",
   "pygments_lexer": "ipython3",
   "version": "3.6.4"
  }
 },
 "nbformat": 4,
 "nbformat_minor": 4
}
